{
  "nbformat": 4,
  "nbformat_minor": 0,
  "metadata": {
    "colab": {
      "provenance": []
    },
    "kernelspec": {
      "name": "python3",
      "display_name": "Python 3"
    },
    "language_info": {
      "name": "python"
    }
  },
  "cells": [
    {
      "cell_type": "code",
      "execution_count": null,
      "metadata": {
        "id": "0tHoJNTjbCmR"
      },
      "outputs": [],
      "source": [
        "# Imports\n",
        "import numpy as np\n",
        "import pandas as pd\n",
        "from sklearn.model_selection import train_test_split\n",
        "from sklearn.preprocessing import StandardScaler\n",
        "from sklearn import svm\n",
        "from sklearn.metrics import accuracy_score"
      ]
    },
    {
      "cell_type": "code",
      "source": [
        "# Data Preprocessing\n",
        "parkinsons_data = pd.read_csv(\"/content/parkinsons.csv\")\n",
        "\n",
        "# Feature - Target split\n",
        "X = parkinsons_data.drop(columns=[\"name\", \"status\"], axis=1)\n",
        "Y = parkinsons_data[\"status\"]\n",
        "\n",
        "# Train - Test split\n",
        "X_train, X_test, Y_train, Y_test = train_test_split(X, Y, \n",
        "                                test_size=0.2, random_state=2)\n",
        "\n",
        "# Standardization\n",
        "scaler = StandardScaler()\n",
        "X_train = scaler.fit_transform(X_train)\n",
        "# We should not fit the test data. It is for the puropse of test only.\n",
        "X_test = scaler.transform(X_test)"
      ],
      "metadata": {
        "id": "8IbFaLG5bHa_"
      },
      "execution_count": 11,
      "outputs": []
    },
    {
      "cell_type": "code",
      "source": [
        "# Model instantiation\n",
        "model = svm.SVC(kernel=\"linear\")\n",
        "\n",
        "# Fitting the dataset.\n",
        "model.fit(X_train, Y_train)"
      ],
      "metadata": {
        "colab": {
          "base_uri": "https://localhost:8080/"
        },
        "id": "BvQaFEJTbbI4",
        "outputId": "6d3f6fbb-a6af-40fb-eacc-7e28faac9c66"
      },
      "execution_count": null,
      "outputs": [
        {
          "output_type": "execute_result",
          "data": {
            "text/plain": [
              "SVC(kernel='linear')"
            ]
          },
          "metadata": {},
          "execution_count": 8
        }
      ]
    },
    {
      "cell_type": "code",
      "source": [
        "# Predictive System\n",
        "input_data = (119.99200,157.30200,74.99700,0.00784,0.00007,\n",
        "              0.00370,0.00554,0.01109,0.04374,0.42600,\n",
        "              0.02182,0.03130,0.02971,0.06545,0.02211,\n",
        "              21.03300,0.414783,0.815285,-4.813031,0.266482,\n",
        "              2.301442,0.284654)\n",
        "\n",
        "# Input conversion to np_array\n",
        "input_data_as_nparray = np.asarray(input_data)\n",
        "# Reshape the np_array\n",
        "input_data_reshaped = input_data_as_nparray.reshape(1, -1)\n",
        "# Standardize the input data.\n",
        "input_data_reshaped = scaler.transform(input_data_reshaped)\n",
        "\n",
        "# Prediction based on the input array.\n",
        "prediction =  model.predict(input_data_reshaped)\n",
        "print(prediction)\n",
        "\n",
        "if prediction[0] :\n",
        "  print(\"Patient has parkinsons disease\")\n",
        "else :\n",
        "  print(\"Patient doesn't have parkinsons disease\")"
      ],
      "metadata": {
        "colab": {
          "base_uri": "https://localhost:8080/"
        },
        "id": "OcOiFHFrcD1p",
        "outputId": "c1d383b2-b61a-4b02-9a83-d2d93a332381"
      },
      "execution_count": null,
      "outputs": [
        {
          "output_type": "stream",
          "name": "stdout",
          "text": [
            "[1]\n",
            "Patient has parkinsons disease\n"
          ]
        },
        {
          "output_type": "stream",
          "name": "stderr",
          "text": [
            "/usr/local/lib/python3.8/dist-packages/sklearn/base.py:450: UserWarning: X does not have valid feature names, but StandardScaler was fitted with feature names\n",
            "  warnings.warn(\n"
          ]
        }
      ]
    },
    {
      "cell_type": "code",
      "source": [],
      "metadata": {
        "id": "jBVdLcbXcQav"
      },
      "execution_count": null,
      "outputs": []
    }
  ]
}