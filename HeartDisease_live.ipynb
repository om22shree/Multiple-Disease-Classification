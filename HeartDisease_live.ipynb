{
  "nbformat": 4,
  "nbformat_minor": 0,
  "metadata": {
    "colab": {
      "provenance": []
    },
    "kernelspec": {
      "name": "python3",
      "display_name": "Python 3"
    },
    "language_info": {
      "name": "python"
    }
  },
  "cells": [
    {
      "cell_type": "code",
      "execution_count": null,
      "metadata": {
        "id": "kKetFQj0ctt7"
      },
      "outputs": [],
      "source": [
        "# Imports\n",
        "import numpy as np\n",
        "import pandas as pd\n",
        "from sklearn.preprocessing import StandardScaler\n",
        "from sklearn.model_selection import train_test_split\n",
        "from sklearn import svm\n",
        "from sklearn.metrics import accuracy_score"
      ]
    },
    {
      "cell_type": "code",
      "source": [
        "# Data Pre-processing\n",
        "heart_data = pd.read_csv(\"/content/heart.csv\")\n",
        "\n",
        "# feature and target split.\n",
        "X = heart_data.drop(columns=\"target\", axis=1)\n",
        "Y = heart_data[\"target\"]\n",
        "\n",
        "# Standardizing the dataset.\n",
        "scaler = StandardScaler()\n",
        "X = scaler.fit_transform(X)\n",
        "\n",
        "# Test-Train split\n",
        "X_train, X_test, Y_train, Y_test = train_test_split(X, Y, \n",
        "                                test_size=0.2, stratify=Y, random_state=2)\n",
        "\n",
        "# Model fitting\n",
        "model = svm.SVC(kernel=\"linear\")\n",
        "# fit the dataset\n",
        "model.fit(X_train, Y_train)"
      ],
      "metadata": {
        "colab": {
          "base_uri": "https://localhost:8080/"
        },
        "id": "TWC_xp_cczjq",
        "outputId": "cc23d90b-1fd1-44fd-ba1b-eb7639b93419"
      },
      "execution_count": 6,
      "outputs": [
        {
          "output_type": "execute_result",
          "data": {
            "text/plain": [
              "SVC(kernel='linear')"
            ]
          },
          "metadata": {},
          "execution_count": 6
        }
      ]
    },
    {
      "cell_type": "code",
      "source": [
        "# Predictive system\n",
        "input_data = (62, 0, 0, 140, 268, 0, 0, 160, 0, 3.6, 0, 2, 2)\n",
        "# change the input to a numpy array.\n",
        "input_data_as_np_array = np.asarray(input_data)\n",
        "# reshape the np array to predict over one datapoint only.\n",
        "input_data_reshaped = input_data_as_np_array.reshape(1, -1)\n",
        "\n",
        "# Prediciton\n",
        "prediction = model.predict(input_data_reshaped)\n",
        "print(prediction)\n",
        "\n",
        "if prediction[0]:\n",
        "    print(\"The person has a heart disease\")\n",
        "else :\n",
        "  print(\"The person has no heart disease\")"
      ],
      "metadata": {
        "colab": {
          "base_uri": "https://localhost:8080/"
        },
        "id": "lvs5p2TxdEgJ",
        "outputId": "bee77e28-5504-40ad-e87a-e8ab37e58c99"
      },
      "execution_count": null,
      "outputs": [
        {
          "output_type": "stream",
          "name": "stdout",
          "text": [
            "[0]\n",
            "The person has no heart disease\n"
          ]
        }
      ]
    }
  ]
}