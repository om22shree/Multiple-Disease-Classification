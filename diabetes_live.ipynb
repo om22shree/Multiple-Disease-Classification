{
  "nbformat": 4,
  "nbformat_minor": 0,
  "metadata": {
    "colab": {
      "provenance": []
    },
    "kernelspec": {
      "name": "python3",
      "display_name": "Python 3"
    },
    "language_info": {
      "name": "python"
    }
  },
  "cells": [
    {
      "cell_type": "code",
      "execution_count": 1,
      "metadata": {
        "id": "FSntHMkKeD3H"
      },
      "outputs": [],
      "source": [
        "# Imports\n",
        "import numpy as np\n",
        "import pandas as pd\n",
        "from sklearn.preprocessing import StandardScaler\n",
        "from sklearn.model_selection import train_test_split\n",
        "from sklearn import svm\n",
        "from sklearn.metrics import accuracy_score"
      ]
    },
    {
      "cell_type": "code",
      "source": [
        "# Data preprocessing\n",
        "diabetes_dataset = pd.read_csv(\"/content/diabetes.csv\")\n",
        "\n",
        "# Feature-Target split\n",
        "X = diabetes_dataset.drop(columns=\"Outcome\", axis=1)\n",
        "Y = diabetes_dataset[\"Outcome\"]\n",
        "\n",
        "# Standardization\n",
        "scaler = StandardScaler()\n",
        "standardized_data = scaler.fit_transform(X)\n",
        "X = standardized_data\n",
        "\n",
        "# Train - test split\n",
        "X_train, X_test, Y_train, Y_test = train_test_split(X, Y, \n",
        "                                test_size=0.2, stratify=Y, random_state=2)"
      ],
      "metadata": {
        "id": "2eCtL_2KeG9H"
      },
      "execution_count": 6,
      "outputs": []
    },
    {
      "cell_type": "code",
      "source": [
        "# Model fitting and training\n",
        "classifier = svm.SVC(kernel=\"linear\")\n",
        "\n",
        "# Training the SVM classifier\n",
        "classifier.fit(X_train, Y_train)"
      ],
      "metadata": {
        "colab": {
          "base_uri": "https://localhost:8080/"
        },
        "id": "CBvV7g4TeWPO",
        "outputId": "ea6a2ae2-1d5c-44ed-c588-752480c610be"
      },
      "execution_count": 7,
      "outputs": [
        {
          "output_type": "execute_result",
          "data": {
            "text/plain": [
              "SVC(kernel='linear')"
            ]
          },
          "metadata": {},
          "execution_count": 7
        }
      ]
    },
    {
      "cell_type": "code",
      "source": [
        "# Predictive system\n",
        "input_data = [5, 166, 72, 19, 175, 25.8, 0.587, 51]\n",
        "\n",
        "# changing input data to np.array\n",
        "input_data_as_np_array = np.asarray(input_data)\n",
        "\n",
        "# reshape the array for prediction of one instance only.\n",
        "input_data_reshaped = input_data_as_np_array.reshape(1, -1)\n",
        "\n",
        "# standardize the input data\n",
        "std_data = scaler.transform(input_data_reshaped)\n",
        "\n",
        "# prediction \n",
        "prediction = classifier.predict(std_data)\n",
        "print(prediction)\n",
        "# we are using prediction[0] because function returns prediction\n",
        "# as a list with only one element in it.\n",
        "if prediction[0]:\n",
        "  print(\"Patient has diabetes\")\n",
        "else:\n",
        "  print(\"Patient doesn't have diabetes\")"
      ],
      "metadata": {
        "colab": {
          "base_uri": "https://localhost:8080/"
        },
        "id": "zbbF_M7ze5Um",
        "outputId": "54b06f33-2bf7-47b2-a8e9-e44a335374ef"
      },
      "execution_count": 9,
      "outputs": [
        {
          "output_type": "stream",
          "name": "stdout",
          "text": [
            "[1]\n",
            "Patient has diabetes\n"
          ]
        },
        {
          "output_type": "stream",
          "name": "stderr",
          "text": [
            "/usr/local/lib/python3.8/dist-packages/sklearn/base.py:450: UserWarning: X does not have valid feature names, but StandardScaler was fitted with feature names\n",
            "  warnings.warn(\n"
          ]
        }
      ]
    }
  ]
}