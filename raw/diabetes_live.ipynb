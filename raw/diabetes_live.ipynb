{
 "cells": [
  {
   "cell_type": "code",
   "execution_count": 50,
   "metadata": {
    "id": "FSntHMkKeD3H"
   },
   "outputs": [],
   "source": [
    "# Imports\n",
    "import numpy as np\n",
    "import pandas as pd\n",
    "from sklearn.preprocessing import StandardScaler\n",
    "from sklearn.impute import SimpleImputer\n",
    "from sklearn.model_selection import train_test_split\n",
    "from sklearn.linear_model import LogisticRegression\n",
    "from sklearn.svm import SVC\n",
    "from sklearn.metrics import accuracy_score\n",
    "import joblib"
   ]
  },
  {
   "cell_type": "code",
   "execution_count": 78,
   "metadata": {
    "id": "2eCtL_2KeG9H"
   },
   "outputs": [],
   "source": [
    "# Data preprocessing\n",
    "diabetes_dataset = pd.read_csv(\"C:/Users/om22s/Desktop/Author/Projects/Multiple-Disease-Classification/data/diabetes.csv\")\n",
    "\n",
    "# Feature-Target split\n",
    "X = diabetes_dataset.drop(columns=\"Outcome\", axis=1)\n",
    "Y = diabetes_dataset[\"Outcome\"]\n",
    "\n",
    "# Standardization\n",
    "scaler = StandardScaler()\n",
    "standardized_data = scaler.fit_transform(X)\n",
    "X = standardized_data\n",
    "\n",
    "# Imputer to get rid of '0' values.\n",
    "filler = SimpleImputer(missing_values=0, strategy=\"mean\")\n",
    "X = filler.fit_transform(X)\n",
    "# Train - test split\n",
    "X_train, X_test, Y_train, Y_test = train_test_split(X, Y, \n",
    "                                test_size=0.3, stratify=Y, random_state=10)"
   ]
  },
  {
   "cell_type": "code",
   "execution_count": 79,
   "metadata": {
    "colab": {
     "base_uri": "https://localhost:8080/"
    },
    "id": "CBvV7g4TeWPO",
    "outputId": "ea6a2ae2-1d5c-44ed-c588-752480c610be"
   },
   "outputs": [
    {
     "name": "stdout",
     "output_type": "stream",
     "text": [
      "0.8225108225108225\n",
      "0.8095238095238095\n",
      "[1]\n"
     ]
    }
   ],
   "source": [
    "# Training the SVC\n",
    "model = SVC(kernel='linear')\n",
    "model.fit(X_train, Y_train)\n",
    "print(accuracy_score(Y_test, model.predict(X_test)))\n",
    "\n",
    "# Training the LogisticRegression classifier\n",
    "logmodel = LogisticRegression()\n",
    "logmodel.fit(X_train, Y_train)\n",
    "print(accuracy_score(Y_test, logmodel.predict(X_test)))\n",
    "# Dumping the model\n",
    "filename = \"diabetes_model.joblib\"\n",
    "joblib.dump(classifier, open(filename, 'wb'))\n",
    "\n",
    "print(model.predict(np.asarray([2,110,74,29,125,32.4,0.698,27]).reshape(1, -1)))"
   ]
  },
  {
   "cell_type": "code",
   "execution_count": null,
   "metadata": {},
   "outputs": [],
   "source": []
  }
 ],
 "metadata": {
  "colab": {
   "provenance": []
  },
  "kernelspec": {
   "display_name": "Python 3 (ipykernel)",
   "language": "python",
   "name": "python3"
  },
  "language_info": {
   "codemirror_mode": {
    "name": "ipython",
    "version": 3
   },
   "file_extension": ".py",
   "mimetype": "text/x-python",
   "name": "python",
   "nbconvert_exporter": "python",
   "pygments_lexer": "ipython3",
   "version": "3.9.16"
  }
 },
 "nbformat": 4,
 "nbformat_minor": 1
}
